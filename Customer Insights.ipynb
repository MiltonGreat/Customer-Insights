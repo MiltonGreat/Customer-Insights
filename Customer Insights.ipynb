{
 "cells": [
  {
   "cell_type": "markdown",
   "id": "d2641969-0909-4497-8f5d-9167c65c032b",
   "metadata": {},
   "source": [
    "# Customer Insights Dashboard"
   ]
  },
  {
   "cell_type": "code",
   "execution_count": 1,
   "id": "559cf013-8bd9-4678-9754-03cc112e4a3c",
   "metadata": {},
   "outputs": [],
   "source": [
    "# Understand customer behavior and preferences to enhance customer experience.\n",
    "# Customer segmentation by age and gender (Stacked bar chart)\n",
    "# Purchase frequency over time (Line chart)\n",
    "# Average purchase value by customer segment (Bar chart)\n",
    "# Customer demographic and purchase data, such as age, gender, location, and purchase history."
   ]
  },
  {
   "cell_type": "code",
   "execution_count": 2,
   "id": "3823a7df-e5d5-43d0-8a81-82308a68b714",
   "metadata": {},
   "outputs": [],
   "source": [
    "import zipfile\n",
    "import os\n",
    "import pandas as pd\n",
    "import numpy as np\n",
    "import matplotlib.pyplot as plt\n",
    "import seaborn as sns\n",
    "from sklearn.preprocessing import StandardScaler, OneHotEncoder\n",
    "from sklearn.compose import ColumnTransformer\n",
    "from sklearn.cluster import KMeans\n",
    "from sklearn.metrics import silhouette_score\n",
    "from sklearn.decomposition import PCA  "
   ]
  },
  {
   "cell_type": "code",
   "execution_count": 3,
   "id": "cc7ee58c-8cfa-45cc-bfe7-d0b6318f704e",
   "metadata": {},
   "outputs": [
    {
     "name": "stdout",
     "output_type": "stream",
     "text": [
      "   index      Date    Year     Month  Customer Age Customer Gender  \\\n",
      "0      0  02/19/16  2016.0  February          29.0               F   \n",
      "1      1  02/20/16  2016.0  February          29.0               F   \n",
      "2      2  02/27/16  2016.0  February          29.0               F   \n",
      "3      3  03/12/16  2016.0     March          29.0               F   \n",
      "4      4  03/12/16  2016.0     March          29.0               F   \n",
      "\n",
      "         Country       State Product Category     Sub Category  Quantity  \\\n",
      "0  United States  Washington      Accessories  Tires and Tubes       1.0   \n",
      "1  United States  Washington         Clothing           Gloves       2.0   \n",
      "2  United States  Washington      Accessories  Tires and Tubes       3.0   \n",
      "3  United States  Washington      Accessories  Tires and Tubes       2.0   \n",
      "4  United States  Washington      Accessories  Tires and Tubes       3.0   \n",
      "\n",
      "   Unit Cost  Unit Price   Cost  Revenue  Column1  \n",
      "0      80.00  109.000000   80.0    109.0      NaN  \n",
      "1      24.50   28.500000   49.0     57.0      NaN  \n",
      "2       3.67    5.000000   11.0     15.0      NaN  \n",
      "3      87.50  116.500000  175.0    233.0      NaN  \n",
      "4      35.00   41.666667  105.0    125.0      NaN  \n",
      "              index          Year  Customer Age      Quantity     Unit Cost  \\\n",
      "count  34867.000000  34866.000000  34866.000000  34866.000000  34866.000000   \n",
      "mean   17433.000000   2015.569237     36.382895      2.002524    349.880567   \n",
      "std    10065.380254      0.495190     11.112902      0.813936    490.015846   \n",
      "min        0.000000   2015.000000     17.000000      1.000000      0.670000   \n",
      "25%     8716.500000   2015.000000     28.000000      1.000000     45.000000   \n",
      "50%    17433.000000   2016.000000     35.000000      2.000000    150.000000   \n",
      "75%    26149.500000   2016.000000     44.000000      3.000000    455.000000   \n",
      "max    34866.000000   2016.000000     87.000000      3.000000   3240.000000   \n",
      "\n",
      "         Unit Price          Cost       Revenue      Column1  \n",
      "count  34866.000000  34866.000000  34867.000000  2574.000000  \n",
      "mean     389.232485    576.004532    640.870093   688.054913  \n",
      "std      525.319091    690.500395    736.640033   774.200897  \n",
      "min        0.666667      2.000000      2.000000     2.000000  \n",
      "25%       53.666667     85.000000    102.000000   104.250000  \n",
      "50%      179.000000    261.000000    319.000000   390.500000  \n",
      "75%      521.000000    769.000000    902.000000   975.750000  \n",
      "max     5082.000000   3600.000000   5082.000000  3681.000000  \n",
      "<class 'pandas.core.frame.DataFrame'>\n",
      "RangeIndex: 34867 entries, 0 to 34866\n",
      "Data columns (total 16 columns):\n",
      " #   Column            Non-Null Count  Dtype  \n",
      "---  ------            --------------  -----  \n",
      " 0   index             34867 non-null  int64  \n",
      " 1   Date              34866 non-null  object \n",
      " 2   Year              34866 non-null  float64\n",
      " 3   Month             34866 non-null  object \n",
      " 4   Customer Age      34866 non-null  float64\n",
      " 5   Customer Gender   34866 non-null  object \n",
      " 6   Country           34866 non-null  object \n",
      " 7   State             34866 non-null  object \n",
      " 8   Product Category  34866 non-null  object \n",
      " 9   Sub Category      34866 non-null  object \n",
      " 10  Quantity          34866 non-null  float64\n",
      " 11  Unit Cost         34866 non-null  float64\n",
      " 12  Unit Price        34866 non-null  float64\n",
      " 13  Cost              34866 non-null  float64\n",
      " 14  Revenue           34867 non-null  float64\n",
      " 15  Column1           2574 non-null   float64\n",
      "dtypes: float64(8), int64(1), object(7)\n",
      "memory usage: 4.3+ MB\n",
      "None\n"
     ]
    }
   ],
   "source": [
    "# Define the path to the zip file\n",
    "zip_file_path = 'Analyzing Customer Spending Habits.zip'\n",
    "\n",
    "# Extract the contents of the zip file\n",
    "with zipfile.ZipFile(zip_file_path, 'r') as zip_ref:\n",
    "    # Extract the CSV file from the zip\n",
    "    zip_ref.extractall()  # This will extract all files into the current directory\n",
    "\n",
    "# Load the CSV file into a pandas DataFrame\n",
    "csv_file_path = 'SalesForCourse_quizz_table.csv'\n",
    "df = pd.read_csv(csv_file_path)\n",
    "\n",
    "# Display the first few rows of the DataFrame to confirm it's loaded correctly\n",
    "print(df.head())\n",
    "print(df.describe())\n",
    "print(df.info())"
   ]
  },
  {
   "cell_type": "code",
   "execution_count": 4,
   "id": "17c44b81-c815-4be8-97b3-0c4becc91d4d",
   "metadata": {},
   "outputs": [],
   "source": [
    "# Handle missing values"
   ]
  },
  {
   "cell_type": "code",
   "execution_count": 5,
   "id": "9a5935f5-9267-4b2e-a585-2e4d1cd60fff",
   "metadata": {},
   "outputs": [
    {
     "name": "stdout",
     "output_type": "stream",
     "text": [
      "Processed dataset saved to 'processed_customer_spending_data.csv'\n"
     ]
    }
   ],
   "source": [
    "# Step 1: Handling Missing Values\n",
    "# Drop rows where critical columns are missing (e.g., 'Date', 'Customer Age', 'Revenue')\n",
    "df.dropna(subset=['Date', 'Customer Age', 'Revenue'], inplace=True)\n",
    "\n",
    "# Fill missing values for other columns (like 'Column1')\n",
    "df['Column1'] = df['Column1'].fillna(0)  # Updated to avoid inplace method\n",
    "\n",
    "# Step 2: Data Type Conversion\n",
    "# Convert 'Date' to a datetime format for better handling of time series data\n",
    "df['Date'] = pd.to_datetime(df['Date'], format='%m/%d/%y')\n",
    "\n",
    "# Step 3: Create New Features\n",
    "# Create a 'Customer Segment' based on age groups (e.g., <25, 25-40, 40-60, 60+)\n",
    "df['Customer Segment'] = pd.cut(df['Customer Age'], \n",
    "                                bins=[0, 25, 40, 60, 100], \n",
    "                                labels=['<25', '25-40', '40-60', '60+'])\n",
    "\n",
    "# Step 4: Calculate Total Purchase Value (Revenue)\n",
    "# Assuming the 'Revenue' column already represents total purchase value per transaction\n",
    "df['Total Purchase Value'] = df['Quantity'] * df['Unit Price']\n",
    "\n",
    "# Step 5: Grouping Data by Demographics and Purchase History\n",
    "# Aggregate the data by Customer Segment, Gender, and Date\n",
    "customer_data = df.groupby(\n",
    "    ['Customer Segment', 'Customer Gender', 'Date'], observed=True  # Add observed=True to avoid warning\n",
    ").agg({\n",
    "    'Total Purchase Value': 'sum',    # Total revenue per segment\n",
    "    'Quantity': 'sum',                # Total items purchased\n",
    "    'Cost': 'sum',                    # Total cost\n",
    "    'Revenue': 'sum',                 # Total revenue\n",
    "    'Customer Age': 'mean'            # Average age in the segment\n",
    "}).reset_index()\n",
    "\n",
    "# Step 6: Save the Processed Data to a CSV File\n",
    "# This file can now be used for Tableau\n",
    "output_csv_file = 'processed_customer_spending_data.csv'\n",
    "customer_data.to_csv(output_csv_file, index=False)\n",
    "\n",
    "print(f\"Processed dataset saved to '{output_csv_file}'\")"
   ]
  }
 ],
 "metadata": {
  "kernelspec": {
   "display_name": "Python 3 (ipykernel)",
   "language": "python",
   "name": "python3"
  },
  "language_info": {
   "codemirror_mode": {
    "name": "ipython",
    "version": 3
   },
   "file_extension": ".py",
   "mimetype": "text/x-python",
   "name": "python",
   "nbconvert_exporter": "python",
   "pygments_lexer": "ipython3",
   "version": "3.12.4"
  }
 },
 "nbformat": 4,
 "nbformat_minor": 5
}
